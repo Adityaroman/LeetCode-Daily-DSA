{
 "cells": [
  {
   "cell_type": "code",
   "execution_count": 1,
   "id": "f95d7aa8-6fe2-40a7-821a-ca2fef08f0ea",
   "metadata": {},
   "outputs": [
    {
     "name": "stdout",
     "output_type": "stream",
     "text": [
      "True\n"
     ]
    }
   ],
   "source": [
    "from collections import Counter\n",
    "class Solution:\n",
    "    def divideArray(self, nums):\n",
    "        a = []\n",
    "        b = []\n",
    "        count = Counter(nums)\n",
    "        #print(count)   #{3: 2, 2: 4}\n",
    "        values = count.values()  \n",
    "\n",
    "        for i in values:\n",
    "            if i % 2 == 0:\n",
    "                a.append(i)\n",
    "            else:\n",
    "                b.append(i)\n",
    "            if len(b) == 0:\n",
    "                return True\n",
    "            else:\n",
    "                return False\n",
    "nums = [3,2,2,3,2,2]\n",
    "sol = Solution()\n",
    "result=(sol.divideArray(nums))\n",
    "print(result)"
   ]
  },
  {
   "cell_type": "code",
   "execution_count": null,
   "id": "55e4d60d-86af-484a-bb33-370eda91eab9",
   "metadata": {},
   "outputs": [],
   "source": []
  }
 ],
 "metadata": {
  "kernelspec": {
   "display_name": "Python 3 (ipykernel)",
   "language": "python",
   "name": "python3"
  },
  "language_info": {
   "codemirror_mode": {
    "name": "ipython",
    "version": 3
   },
   "file_extension": ".py",
   "mimetype": "text/x-python",
   "name": "python",
   "nbconvert_exporter": "python",
   "pygments_lexer": "ipython3",
   "version": "3.11.7"
  }
 },
 "nbformat": 4,
 "nbformat_minor": 5
}
