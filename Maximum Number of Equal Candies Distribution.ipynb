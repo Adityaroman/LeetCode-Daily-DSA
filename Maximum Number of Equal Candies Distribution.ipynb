{
 "cells": [
  {
   "cell_type": "code",
   "execution_count": 1,
   "id": "5e4f561f-5409-4707-9165-24c4d868b3b0",
   "metadata": {},
   "outputs": [
    {
     "name": "stdout",
     "output_type": "stream",
     "text": [
      "5\n"
     ]
    }
   ],
   "source": [
    "class Solution:\n",
    "    def maxCan(self, candies, k):\n",
    "        left, right = 1, max(candies)\n",
    "        while left <= right:\n",
    "            mid = (left + right) // 2\n",
    "            if sum(c//mid for c in candies)>=k:\n",
    "                left = mid + 1\n",
    "            else:\n",
    "                right = mid - 1\n",
    "        return right\n",
    "candies = [5, 8, 6]\n",
    "k = 3\n",
    "sol = Solution()\n",
    "result = sol.maxCan(candies, k)\n",
    "print(result)"
   ]
  },
  {
   "cell_type": "code",
   "execution_count": null,
   "id": "1e6cc3c2-13ec-41d4-a751-41be4362d012",
   "metadata": {},
   "outputs": [],
   "source": []
  }
 ],
 "metadata": {
  "kernelspec": {
   "display_name": "Python 3 (ipykernel)",
   "language": "python",
   "name": "python3"
  },
  "language_info": {
   "codemirror_mode": {
    "name": "ipython",
    "version": 3
   },
   "file_extension": ".py",
   "mimetype": "text/x-python",
   "name": "python",
   "nbconvert_exporter": "python",
   "pygments_lexer": "ipython3",
   "version": "3.11.7"
  }
 },
 "nbformat": 4,
 "nbformat_minor": 5
}
